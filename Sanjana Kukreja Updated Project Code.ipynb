{
 "cells": [
  {
   "cell_type": "code",
   "execution_count": 1,
   "metadata": {},
   "outputs": [],
   "source": [
    "import sys\n",
    "import warnings\n",
    "\n",
    "if not sys.warnoptions:\n",
    "    warnings.simplefilter(\"ignore\")\n",
    "import pandas as pd\n",
    "import numpy as np\n",
    "import matplotlib.pyplot as plt\n",
    "import seaborn as sns\n",
    "%matplotlib inline"
   ]
  },
  {
   "cell_type": "markdown",
   "metadata": {},
   "source": [
    "#### Function to merge datasets"
   ]
  },
  {
   "cell_type": "code",
   "execution_count": 2,
   "metadata": {},
   "outputs": [],
   "source": [
    "def mergedata(data1,data2):\n",
    "    happiness_data=pd.read_csv(data1)\n",
    "    health_expenditure=pd.read_csv(data2) \n",
    "    happiness_data.set_index('S_no', inplace=True)\n",
    "    health_expenditure.set_index('S_no', inplace=True)\n",
    "    world_happiness=happiness_data.drop(columns=['Economy (GDP per Capita)','Freedom','Generosity','Happiness Score'],axis=1)\n",
    "    data=pd.merge(health_expenditure,world_happiness, on=[\"S_no\", \"S_no\"]) \n",
    "    hypodata=data.drop(columns=['Year_y','Country_y'],axis=1)\n",
    "    hypo3data=hypodata.rename(columns={'Year_x':'Year', 'Country_x':'Country','expenditure':'Expenditure'})\n",
    "    return hypo3data\n",
    "\n",
    "hypo3data=mergedata('happiness_world_data.csv','health_expenditure.csv')\n"
   ]
  },
  {
   "cell_type": "code",
   "execution_count": 3,
   "metadata": {},
   "outputs": [],
   "source": [
    "MH_data= pd.read_csv('Mental Health Data 2016.csv')\n",
    "nusers = MH_data['User_Id'].nunique()\n",
    "MH_data=MH_data.rename(columns={'How many employees does your company or organization have?':'CompanySize','do you have a family history of mental illness?' : 'Family History of Mental Illness'})\n"
   ]
  },
  {
   "cell_type": "markdown",
   "metadata": {},
   "source": [
    "#### Function to find the Null Values for the Mental Health Data and amend them"
   ]
  },
  {
   "cell_type": "code",
   "execution_count": 4,
   "metadata": {},
   "outputs": [
    {
     "name": "stdout",
     "output_type": "stream",
     "text": [
      "                                                    Missing Values  Percentage\n",
      "If maybe, what condition(s) do you believe you ...             692   78.995434\n",
      "Is your primary role within your company relate...             649   74.086758\n",
      "If yes, what condition(s) have you been diagnos...             522   59.589041\n",
      "Have your observations of how another individua...             472   53.881279\n",
      "If so, what condition(s) were you diagnosed with?              434   49.543379\n",
      "What US state or territory do you live in?                     313   35.730594\n",
      "What US state or territory do you work in?                     307   35.045662\n",
      "Why or why not?                                                213   24.315068\n",
      "Why or why not?.1                                              196   22.374429\n",
      "Would you have been willing to discuss a mental...              96   10.958904\n",
      "Did you hear of or observe negative consequence...              96   10.958904\n",
      "Would you have been willing to discuss a mental...              96   10.958904\n",
      "Did you feel that your previous employers took ...              96   10.958904\n",
      "Do you think that discussing a physical health ...              96   10.958904\n",
      "Was your anonymity protected if you chose to ta...              96   10.958904\n",
      "Did your previous employers provide resources t...              96   10.958904\n",
      "Did your previous employers ever formally discu...              96   10.958904\n",
      "Were you aware of the options for mental health...              96   10.958904\n",
      "Do you think that discussing a mental health di...              96   10.958904\n",
      "Have your previous employers provided mental he...              96   10.958904\n"
     ]
    }
   ],
   "source": [
    "def FindNullValues(dataframe):\n",
    "    \"\"\"\n",
    "    This function is used to find all the null vlaues in the Mental Health Dataset\n",
    "    param: dataset\n",
    "    return:column name with the number and percent of missing values\n",
    "    \"\"\"\n",
    "    totalValues = dataframe.isnull().count()\n",
    "    sumofnullValues = dataframe.isnull().sum()\n",
    "    totalnullValues = dataframe.isnull().sum().sort_values(ascending=False)\n",
    "    percent = (sumofnullValues/totalValues).sort_values(ascending=False)\n",
    "    missingData = pd.concat([totalnullValues, percent*100], axis=1, keys=['Missing Values', 'Percentage'])\n",
    "    print(missingData.head(20))\n",
    "   \n",
    "    return missingData\n",
    "\n",
    "noisyData = FindNullValues(MH_data)"
   ]
  },
  {
   "cell_type": "code",
   "execution_count": 5,
   "metadata": {},
   "outputs": [
    {
     "data": {
      "text/plain": [
       "array(['Male', 'M', 'female', 'Female', 'm', 'I identify as female.',\n",
       "       'male', 'non-binary', 'Female assigned at birth ', 'Woman', 'man',\n",
       "       'Male ', 'fm', 'f', 'F', 'Cis female ',\n",
       "       'Female or Multi-Gender Femme', 'female/woman', 'Cis male',\n",
       "       'Male.', 'Androgynous', nan, 'Female ', 'nb masculine',\n",
       "       'Cisgender Female', 'Man', 'none of your business', 'cis male',\n",
       "       'Genderfluid', 'Enby', 'genderqueer woman', 'female ', 'Queer',\n",
       "       'Agender', 'Dude', 'woman', 'Male/genderqueer', 'fem', 'Nonbinary',\n",
       "       'male ', 'Female (props for making this a freeform field, though)',\n",
       "       ' Female', 'Cis Male', 'Male (trans, FtM)', 'Genderqueer',\n",
       "       'cisdude', 'Genderflux demi-girl', 'cis man', 'Male (cis)'],\n",
       "      dtype=object)"
      ]
     },
     "execution_count": 5,
     "metadata": {},
     "output_type": "execute_result"
    }
   ],
   "source": [
    "MH_data['What is your gender?'].unique()"
   ]
  },
  {
   "cell_type": "markdown",
   "metadata": {},
   "source": [
    "#### Function to clean the Col"
   ]
  },
  {
   "cell_type": "code",
   "execution_count": 6,
   "metadata": {},
   "outputs": [
    {
     "name": "stdout",
     "output_type": "stream",
     "text": [
      "['Male' 'Female' 'Undecided']\n"
     ]
    }
   ],
   "source": [
    "def cleandata(dataframe):\n",
    "    \"\"\"\n",
    "    This function is used for cleaning of the columns inside the dataset,we will clean the Gender column and merge all the other genders into one value\n",
    "    param:dataset\n",
    "    \"\"\"\n",
    "    genderDistribution = MH_data.loc[:, MH_data.columns.str.contains('gender|Gender', regex=True)]\n",
    "    MH_data['Gender'] = genderDistribution.apply(lambda row: ' '.join(row.values.astype(str)), axis=1)\n",
    "    MH_data.loc[MH_data['Gender'].str.contains('Trans|them|trans|Undecided|Contextual|transgender|nb|unicorn|Unicorn|queer|NB|binary|Enby|Human|little|androgynous|Androgyne|Neutral|Agender|Androgynous|Androgynous|Fluid|GenderFluid|Genderflux|genderqueer|Genderqueer' , regex=True), 'Gender'] = 'Undecided'\n",
    "    MH_data.loc[MH_data['Gender'].str.contains('Female|female|FEMALE|Woman|woman|w|womail|W|Cis female| Female (cis)|Cis Female|cis female|cis woman|F|f' , regex=True), 'Gender'] = 'Female'\n",
    "    cond1 = MH_data['Gender']!='Female'\n",
    "    cond2 = MH_data['Gender']!='Undecided'\n",
    "    MH_data.loc[cond1 & cond2, 'Gender'] = 'Male'\n",
    "    MH_data.drop(genderDistribution, axis=1, inplace=True)\n",
    "    showGender = MH_data['Gender']\n",
    "    print(showGender.unique())\n",
    "\n",
    "cleandata(MH_data)"
   ]
  },
  {
   "cell_type": "code",
   "execution_count": 7,
   "metadata": {},
   "outputs": [
    {
     "data": {
      "text/plain": [
       "array([ 39,  42,  30,  37,  44,  28,  34,  35,  52,  32,  31,  25,  27,\n",
       "        36,  33,  29,  40,  46,  41,  24,  26,  23,  51,  45,  38,  21,\n",
       "        55,  22,  49,  47,  50,  43,  57,  19, 323,  62,  53,  58,   3,\n",
       "        54,  59,  63,  48,  74,  70,  20,  56], dtype=int64)"
      ]
     },
     "execution_count": 7,
     "metadata": {},
     "output_type": "execute_result"
    }
   ],
   "source": [
    "MH_data['What is your age?'].unique()"
   ]
  },
  {
   "cell_type": "code",
   "execution_count": 8,
   "metadata": {},
   "outputs": [],
   "source": [
    "def givescore(dataframe):\n",
    "    \"\"\"\n",
    "    This function calculates the MH_Score for every user\n",
    "    param:dataset\n",
    "    \"\"\"\n",
    "    for userid in range(1, nusers+1):\n",
    "        df_user = MH_data[MH_data['User_Id']==userid]\n",
    "        score = 0\n",
    "        if  df_user['Do you think that team members/co-workers would view you more negatively if they knew you suffered from a mental health issue?'].values =='Yes,I think they would' or df_user['Do you think that team members/co-workers would view you more negatively if they knew you suffered from a mental health issue?'].values =='Yes, they would' or df_user['Do you currently have a mental health disorder?'].values =='Maybe' or df_user['Do you currently have a mental health disorder?'].values =='Possibly' or df_user['Have you ever sought treatment for a mental health issue from a mental health professional?'].values=='1' or df_user['Have you had a mental health disorder in the past?'].values =='Yes' or df_user['Have you had a mental health disorder in the past?'].values =='Possibly'or df_user['Have you had a mental health disorder in the past?'].values =='Maybe' or df_user['If you have a mental health issue, do you feel that it interferes with your work when being treated effectively?'].values =='Sometimes' or df_user['If you have a mental health issue, do you feel that it interferes with your work when being treated effectively?'].values =='Rarely' or df_user['If you have a mental health issue, do you feel that it interferes with your work when NOT being treated effectively?'].values =='Sometimes' or df_user['If you have a mental health issue, do you feel that it interferes with your work when NOT being treated effectively?'].values =='Rarely':\n",
    "            score+=10\n",
    "        if  df_user['Do you have a family history of mental illness?'].values =='Yes' or  df_user['How willing would you be to share with friends and family that you have a mental illness?'].values =='Not open at all' or df_user['Do you currently have a mental health disorder?'].values =='Yes' or df_user['If you have a mental health issue, do you feel that it interferes with your work when being treated effectively?'].values =='Often' or df_user['If you have a mental health issue, do you feel that it interferes with your work when NOT being treated effectively?'].values =='Often' or df_user['Do you feel that being identified as a person with a mental health issue would hurt your career?'].values =='Yes, I think it would' or df_user['Do you feel that being identified as a person with a mental health issue would hurt your career?'].values =='Yes, it has':\n",
    "            score+=15\n",
    "        if df_user['Has your employer ever formally discussed mental health (for example, as part of a wellness campaign or other official communication)?'].values =='Yes' or df_user['Would you feel comfortable discussing a mental health disorder with your coworkers?'].values =='Yes' :\n",
    "            score+=5\n",
    "        MH_data.loc[MH_data.User_Id == userid, ['MH_Score']]=score\n",
    "        \n",
    "givescore(MH_data)"
   ]
  },
  {
   "cell_type": "code",
   "execution_count": 9,
   "metadata": {},
   "outputs": [
    {
     "data": {
      "text/plain": [
       "array([10., 15., 25., 30.,  5.,  0., 20., nan])"
      ]
     },
     "execution_count": 9,
     "metadata": {},
     "output_type": "execute_result"
    }
   ],
   "source": [
    "MH_data.set_index('User_Id', inplace=True)\n",
    "MH_data['MH_Score'].unique()"
   ]
  },
  {
   "cell_type": "code",
   "execution_count": 10,
   "metadata": {},
   "outputs": [
    {
     "data": {
      "text/html": [
       "<div>\n",
       "<style scoped>\n",
       "    .dataframe tbody tr th:only-of-type {\n",
       "        vertical-align: middle;\n",
       "    }\n",
       "\n",
       "    .dataframe tbody tr th {\n",
       "        vertical-align: top;\n",
       "    }\n",
       "\n",
       "    .dataframe thead th {\n",
       "        text-align: right;\n",
       "    }\n",
       "</style>\n",
       "<table border=\"1\" class=\"dataframe\">\n",
       "  <thead>\n",
       "    <tr style=\"text-align: right;\">\n",
       "      <th></th>\n",
       "      <th>Are you self-employed?</th>\n",
       "      <th>CompanySize</th>\n",
       "      <th>Is your employer primarily a tech company/organization?</th>\n",
       "      <th>Is your primary role within your company related to tech/IT?</th>\n",
       "      <th>Does your employer provide mental health benefits as part of healthcare coverage?</th>\n",
       "      <th>Do you know the options for mental health care available under your employer-provided coverage?</th>\n",
       "      <th>Has your employer ever formally discussed mental health (for example, as part of a wellness campaign or other official communication)?</th>\n",
       "      <th>Does your employer offer resources to learn more about mental health concerns and options for seeking help?</th>\n",
       "      <th>Is your anonymity protected if you choose to take advantage of mental health or substance abuse treatment resources provided by your employer?</th>\n",
       "      <th>If a mental health issue prompted you to request a medical leave from work, asking for that leave would be:</th>\n",
       "      <th>...</th>\n",
       "      <th>If you have a mental health issue, do you feel that it interferes with your work when NOT being treated effectively?</th>\n",
       "      <th>What is your age?</th>\n",
       "      <th>What country do you live in?</th>\n",
       "      <th>What US state or territory do you live in?</th>\n",
       "      <th>What country do you work in?</th>\n",
       "      <th>What US state or territory do you work in?</th>\n",
       "      <th>Which of the following best describes your work position?</th>\n",
       "      <th>Do you work remotely?</th>\n",
       "      <th>Gender</th>\n",
       "      <th>MH_Score</th>\n",
       "    </tr>\n",
       "    <tr>\n",
       "      <th>User_Id</th>\n",
       "      <th></th>\n",
       "      <th></th>\n",
       "      <th></th>\n",
       "      <th></th>\n",
       "      <th></th>\n",
       "      <th></th>\n",
       "      <th></th>\n",
       "      <th></th>\n",
       "      <th></th>\n",
       "      <th></th>\n",
       "      <th></th>\n",
       "      <th></th>\n",
       "      <th></th>\n",
       "      <th></th>\n",
       "      <th></th>\n",
       "      <th></th>\n",
       "      <th></th>\n",
       "      <th></th>\n",
       "      <th></th>\n",
       "      <th></th>\n",
       "      <th></th>\n",
       "    </tr>\n",
       "  </thead>\n",
       "  <tbody>\n",
       "    <tr>\n",
       "      <th>565</th>\n",
       "      <td>0</td>\n",
       "      <td>100-500</td>\n",
       "      <td>1</td>\n",
       "      <td>NaN</td>\n",
       "      <td>Yes</td>\n",
       "      <td>No</td>\n",
       "      <td>I don't know</td>\n",
       "      <td>I don't know</td>\n",
       "      <td>I don't know</td>\n",
       "      <td>I don't know</td>\n",
       "      <td>...</td>\n",
       "      <td>Not applicable to me</td>\n",
       "      <td>323</td>\n",
       "      <td>United States of America</td>\n",
       "      <td>Oregon</td>\n",
       "      <td>United States of America</td>\n",
       "      <td>Oregon</td>\n",
       "      <td>Back-end Developer</td>\n",
       "      <td>Sometimes</td>\n",
       "      <td>Male</td>\n",
       "      <td>15.0</td>\n",
       "    </tr>\n",
       "    <tr>\n",
       "      <th>657</th>\n",
       "      <td>0</td>\n",
       "      <td>1000+</td>\n",
       "      <td>1</td>\n",
       "      <td>NaN</td>\n",
       "      <td>Yes</td>\n",
       "      <td>I am not sure</td>\n",
       "      <td>Yes</td>\n",
       "      <td>Yes</td>\n",
       "      <td>I don't know</td>\n",
       "      <td>Somewhat easy</td>\n",
       "      <td>...</td>\n",
       "      <td>Sometimes</td>\n",
       "      <td>3</td>\n",
       "      <td>Canada</td>\n",
       "      <td>NaN</td>\n",
       "      <td>Canada</td>\n",
       "      <td>NaN</td>\n",
       "      <td>Back-end Developer</td>\n",
       "      <td>Sometimes</td>\n",
       "      <td>Male</td>\n",
       "      <td>15.0</td>\n",
       "    </tr>\n",
       "  </tbody>\n",
       "</table>\n",
       "<p>2 rows × 56 columns</p>\n",
       "</div>"
      ],
      "text/plain": [
       "         Are you self-employed? CompanySize  \\\n",
       "User_Id                                       \n",
       "565                           0     100-500   \n",
       "657                           0       1000+   \n",
       "\n",
       "         Is your employer primarily a tech company/organization?  \\\n",
       "User_Id                                                            \n",
       "565                                                      1         \n",
       "657                                                      1         \n",
       "\n",
       "         Is your primary role within your company related to tech/IT?  \\\n",
       "User_Id                                                                 \n",
       "565                                                    NaN              \n",
       "657                                                    NaN              \n",
       "\n",
       "        Does your employer provide mental health benefits as part of healthcare coverage?  \\\n",
       "User_Id                                                                                     \n",
       "565                                                    Yes                                  \n",
       "657                                                    Yes                                  \n",
       "\n",
       "        Do you know the options for mental health care available under your employer-provided coverage?  \\\n",
       "User_Id                                                                                                   \n",
       "565                                                     No                                                \n",
       "657                                          I am not sure                                                \n",
       "\n",
       "        Has your employer ever formally discussed mental health (for example, as part of a wellness campaign or other official communication)?  \\\n",
       "User_Id                                                                                                                                          \n",
       "565                                           I don't know                                                                                       \n",
       "657                                                    Yes                                                                                       \n",
       "\n",
       "        Does your employer offer resources to learn more about mental health concerns and options for seeking help?  \\\n",
       "User_Id                                                                                                               \n",
       "565                                           I don't know                                                            \n",
       "657                                                    Yes                                                            \n",
       "\n",
       "        Is your anonymity protected if you choose to take advantage of mental health or substance abuse treatment resources provided by your employer?  \\\n",
       "User_Id                                                                                                                                                  \n",
       "565                                           I don't know                                                                                               \n",
       "657                                           I don't know                                                                                               \n",
       "\n",
       "        If a mental health issue prompted you to request a medical leave from work, asking for that leave would be:  \\\n",
       "User_Id                                                                                                               \n",
       "565                                           I don't know                                                            \n",
       "657                                          Somewhat easy                                                            \n",
       "\n",
       "         ...  \\\n",
       "User_Id  ...   \n",
       "565      ...   \n",
       "657      ...   \n",
       "\n",
       "        If you have a mental health issue, do you feel that it interferes with your work when NOT being treated effectively?  \\\n",
       "User_Id                                                                                                                        \n",
       "565                                   Not applicable to me                                                                     \n",
       "657                                              Sometimes                                                                     \n",
       "\n",
       "        What is your age? What country do you live in?  \\\n",
       "User_Id                                                  \n",
       "565                   323     United States of America   \n",
       "657                     3                       Canada   \n",
       "\n",
       "        What US state or territory do you live in?  \\\n",
       "User_Id                                              \n",
       "565                                         Oregon   \n",
       "657                                            NaN   \n",
       "\n",
       "        What country do you work in?  \\\n",
       "User_Id                                \n",
       "565         United States of America   \n",
       "657                           Canada   \n",
       "\n",
       "        What US state or territory do you work in?  \\\n",
       "User_Id                                              \n",
       "565                                         Oregon   \n",
       "657                                            NaN   \n",
       "\n",
       "         Which of the following best describes your work position?  \\\n",
       "User_Id                                                              \n",
       "565                                     Back-end Developer           \n",
       "657                                     Back-end Developer           \n",
       "\n",
       "        Do you work remotely? Gender MH_Score  \n",
       "User_Id                                        \n",
       "565                 Sometimes   Male     15.0  \n",
       "657                 Sometimes   Male     15.0  \n",
       "\n",
       "[2 rows x 56 columns]"
      ]
     },
     "execution_count": 10,
     "metadata": {},
     "output_type": "execute_result"
    }
   ],
   "source": [
    "MH_data[(MH_data['What is your age?']<18)|(MH_data['What is your age?']>75)]"
   ]
  },
  {
   "cell_type": "code",
   "execution_count": 11,
   "metadata": {},
   "outputs": [],
   "source": [
    "df=MH_data.drop([565,657])"
   ]
  },
  {
   "cell_type": "code",
   "execution_count": 12,
   "metadata": {},
   "outputs": [
    {
     "data": {
      "text/html": [
       "<div>\n",
       "<style scoped>\n",
       "    .dataframe tbody tr th:only-of-type {\n",
       "        vertical-align: middle;\n",
       "    }\n",
       "\n",
       "    .dataframe tbody tr th {\n",
       "        vertical-align: top;\n",
       "    }\n",
       "\n",
       "    .dataframe thead th {\n",
       "        text-align: right;\n",
       "    }\n",
       "</style>\n",
       "<table border=\"1\" class=\"dataframe\">\n",
       "  <thead>\n",
       "    <tr style=\"text-align: right;\">\n",
       "      <th>Company Size vs MH Score</th>\n",
       "      <th>0.0</th>\n",
       "      <th>5.0</th>\n",
       "      <th>10.0</th>\n",
       "      <th>15.0</th>\n",
       "      <th>20.0</th>\n",
       "      <th>25.0</th>\n",
       "      <th>30.0</th>\n",
       "    </tr>\n",
       "    <tr>\n",
       "      <th>CompanySize</th>\n",
       "      <th></th>\n",
       "      <th></th>\n",
       "      <th></th>\n",
       "      <th></th>\n",
       "      <th></th>\n",
       "      <th></th>\n",
       "      <th></th>\n",
       "    </tr>\n",
       "  </thead>\n",
       "  <tbody>\n",
       "    <tr>\n",
       "      <th>100-500</th>\n",
       "      <td>0.052288</td>\n",
       "      <td>0.065359</td>\n",
       "      <td>0.058824</td>\n",
       "      <td>0.169935</td>\n",
       "      <td>0.019608</td>\n",
       "      <td>0.444444</td>\n",
       "      <td>0.189542</td>\n",
       "    </tr>\n",
       "    <tr>\n",
       "      <th>1000+</th>\n",
       "      <td>0.036496</td>\n",
       "      <td>0.058394</td>\n",
       "      <td>0.051095</td>\n",
       "      <td>0.094891</td>\n",
       "      <td>0.051095</td>\n",
       "      <td>0.379562</td>\n",
       "      <td>0.328467</td>\n",
       "    </tr>\n",
       "    <tr>\n",
       "      <th>26-100</th>\n",
       "      <td>0.073034</td>\n",
       "      <td>0.061798</td>\n",
       "      <td>0.050562</td>\n",
       "      <td>0.123596</td>\n",
       "      <td>0.050562</td>\n",
       "      <td>0.376404</td>\n",
       "      <td>0.264045</td>\n",
       "    </tr>\n",
       "    <tr>\n",
       "      <th>500-1000</th>\n",
       "      <td>0.089286</td>\n",
       "      <td>0.035714</td>\n",
       "      <td>0.000000</td>\n",
       "      <td>0.160714</td>\n",
       "      <td>0.053571</td>\n",
       "      <td>0.375000</td>\n",
       "      <td>0.285714</td>\n",
       "    </tr>\n",
       "  </tbody>\n",
       "</table>\n",
       "</div>"
      ],
      "text/plain": [
       "Company Size vs MH Score      0.0       5.0       10.0      15.0      20.0  \\\n",
       "CompanySize                                                                  \n",
       "100-500                   0.052288  0.065359  0.058824  0.169935  0.019608   \n",
       "1000+                     0.036496  0.058394  0.051095  0.094891  0.051095   \n",
       "26-100                    0.073034  0.061798  0.050562  0.123596  0.050562   \n",
       "500-1000                  0.089286  0.035714  0.000000  0.160714  0.053571   \n",
       "\n",
       "Company Size vs MH Score      25.0      30.0  \n",
       "CompanySize                                   \n",
       "100-500                   0.444444  0.189542  \n",
       "1000+                     0.379562  0.328467  \n",
       "26-100                    0.376404  0.264045  \n",
       "500-1000                  0.375000  0.285714  "
      ]
     },
     "metadata": {},
     "output_type": "display_data"
    },
    {
     "data": {
      "image/png": "[encoded data removed]",
      "text/plain": [
       "<Figure size 720x432 with 1 Axes>"
      ]
     },
     "metadata": {
      "needs_background": "light"
     },
     "output_type": "display_data"
    }
   ],
   "source": [
    "df['CompanySize'].value_counts()\n",
    "value_count = round(df.groupby('CompanySize')['MH_Score'].mean(),2)\n",
    "value_count\n",
    "crossTab = pd.crosstab(df['CompanySize'],df['MH_Score'],\n",
    "                       normalize = \"index\")\n",
    "crossTab.columns.name = \"Company Size vs MH Score\"\n",
    "display(crossTab)\n",
    "fig, ax = plt.subplots(figsize=(10,6))\n",
    "cats_vals = [value_count[2],value_count[0],value_count[3],value_count[1]]\n",
    "cats = [value_count.index[2],value_count.index[0],value_count.index[3],value_count.index[1]]\n",
    "\n",
    "plt.plot(cats, cats_vals)\n",
    "\n",
    "plt.xlabel(\"Company Size\")\n",
    "plt.ylabel(\"MH_Score (avg)\")\n",
    "\n",
    "plt.show()"
   ]
  },
  {
   "cell_type": "code",
   "execution_count": 13,
   "metadata": {},
   "outputs": [
    {
     "data": {
      "text/html": [
       "<div>\n",
       "<style scoped>\n",
       "    .dataframe tbody tr th:only-of-type {\n",
       "        vertical-align: middle;\n",
       "    }\n",
       "\n",
       "    .dataframe tbody tr th {\n",
       "        vertical-align: top;\n",
       "    }\n",
       "\n",
       "    .dataframe thead th {\n",
       "        text-align: right;\n",
       "    }\n",
       "</style>\n",
       "<table border=\"1\" class=\"dataframe\">\n",
       "  <thead>\n",
       "    <tr style=\"text-align: right;\">\n",
       "      <th>Mental Health discussion with Supervisor</th>\n",
       "      <th>Maybe</th>\n",
       "      <th>No</th>\n",
       "      <th>Yes</th>\n",
       "    </tr>\n",
       "    <tr>\n",
       "      <th>CompanySize</th>\n",
       "      <th></th>\n",
       "      <th></th>\n",
       "      <th></th>\n",
       "    </tr>\n",
       "  </thead>\n",
       "  <tbody>\n",
       "    <tr>\n",
       "      <th>100-500</th>\n",
       "      <td>0.348178</td>\n",
       "      <td>0.267206</td>\n",
       "      <td>0.384615</td>\n",
       "    </tr>\n",
       "    <tr>\n",
       "      <th>1000+</th>\n",
       "      <td>0.294118</td>\n",
       "      <td>0.380392</td>\n",
       "      <td>0.325490</td>\n",
       "    </tr>\n",
       "    <tr>\n",
       "      <th>26-100</th>\n",
       "      <td>0.359589</td>\n",
       "      <td>0.253425</td>\n",
       "      <td>0.386986</td>\n",
       "    </tr>\n",
       "    <tr>\n",
       "      <th>500-1000</th>\n",
       "      <td>0.400000</td>\n",
       "      <td>0.212500</td>\n",
       "      <td>0.387500</td>\n",
       "    </tr>\n",
       "  </tbody>\n",
       "</table>\n",
       "</div>"
      ],
      "text/plain": [
       "Mental Health discussion with Supervisor     Maybe        No       Yes\n",
       "CompanySize                                                           \n",
       "100-500                                   0.348178  0.267206  0.384615\n",
       "1000+                                     0.294118  0.380392  0.325490\n",
       "26-100                                    0.359589  0.253425  0.386986\n",
       "500-1000                                  0.400000  0.212500  0.387500"
      ]
     },
     "metadata": {},
     "output_type": "display_data"
    },
    {
     "data": {
      "text/plain": [
       "Text(0.5, 1.0, 'Company Size vs Mental Health Discussion')"
      ]
     },
     "execution_count": 13,
     "metadata": {},
     "output_type": "execute_result"
    },
    {
     "data": {
      "image/png": "[encoded data removed]",
      "text/plain": [
       "<Figure size 1440x432 with 1 Axes>"
      ]
     },
     "metadata": {
      "needs_background": "light"
     },
     "output_type": "display_data"
    }
   ],
   "source": [
    "crossTab = pd.crosstab(df['CompanySize'],df['Would you feel comfortable discussing a mental health disorder with your direct supervisor(s)?'],\n",
    "                       normalize = \"index\")\n",
    "crossTab.columns.name = \"Mental Health discussion with Supervisor\"\n",
    "display(crossTab)\n",
    "fig,ax = plt.subplots(figsize=(20,6))\n",
    "sns.countplot(data=df,x= df['CompanySize'], hue =df['Would you feel comfortable discussing a mental health disorder with your direct supervisor(s)?'],ax=ax )\n",
    "ticks = plt.setp(ax.get_xticklabels(),rotation=45)\n",
    "plt.title('Company Size vs Mental Health Discussion')"
   ]
  },
  {
   "cell_type": "code",
   "execution_count": 14,
   "metadata": {},
   "outputs": [
    {
     "data": {
      "text/html": [
       "<div>\n",
       "<style scoped>\n",
       "    .dataframe tbody tr th:only-of-type {\n",
       "        vertical-align: middle;\n",
       "    }\n",
       "\n",
       "    .dataframe tbody tr th {\n",
       "        vertical-align: top;\n",
       "    }\n",
       "\n",
       "    .dataframe thead th {\n",
       "        text-align: right;\n",
       "    }\n",
       "</style>\n",
       "<table border=\"1\" class=\"dataframe\">\n",
       "  <thead>\n",
       "    <tr style=\"text-align: right;\">\n",
       "      <th>Discuss Mental Health with supervisor</th>\n",
       "      <th>Maybe</th>\n",
       "      <th>No</th>\n",
       "      <th>Yes</th>\n",
       "    </tr>\n",
       "    <tr>\n",
       "      <th>agerange</th>\n",
       "      <th></th>\n",
       "      <th></th>\n",
       "      <th></th>\n",
       "    </tr>\n",
       "  </thead>\n",
       "  <tbody>\n",
       "    <tr>\n",
       "      <th>18-29</th>\n",
       "      <td>0.348624</td>\n",
       "      <td>0.314985</td>\n",
       "      <td>0.336391</td>\n",
       "    </tr>\n",
       "    <tr>\n",
       "      <th>30-39</th>\n",
       "      <td>0.334165</td>\n",
       "      <td>0.259352</td>\n",
       "      <td>0.406484</td>\n",
       "    </tr>\n",
       "    <tr>\n",
       "      <th>40-49</th>\n",
       "      <td>0.360656</td>\n",
       "      <td>0.344262</td>\n",
       "      <td>0.295082</td>\n",
       "    </tr>\n",
       "    <tr>\n",
       "      <th>50-59</th>\n",
       "      <td>0.263158</td>\n",
       "      <td>0.263158</td>\n",
       "      <td>0.473684</td>\n",
       "    </tr>\n",
       "    <tr>\n",
       "      <th>60-75</th>\n",
       "      <td>0.250000</td>\n",
       "      <td>0.000000</td>\n",
       "      <td>0.750000</td>\n",
       "    </tr>\n",
       "  </tbody>\n",
       "</table>\n",
       "</div>"
      ],
      "text/plain": [
       "Discuss Mental Health with supervisor     Maybe        No       Yes\n",
       "agerange                                                           \n",
       "18-29                                  0.348624  0.314985  0.336391\n",
       "30-39                                  0.334165  0.259352  0.406484\n",
       "40-49                                  0.360656  0.344262  0.295082\n",
       "50-59                                  0.263158  0.263158  0.473684\n",
       "60-75                                  0.250000  0.000000  0.750000"
      ]
     },
     "metadata": {},
     "output_type": "display_data"
    },
    {
     "data": {
      "text/plain": [
       "Text(0.5, 1.0, 'Age vs Mental Health Discussion')"
      ]
     },
     "execution_count": 14,
     "metadata": {},
     "output_type": "execute_result"
    },
    {
     "data": {
      "image/png": "[encoded data removed]",
      "text/plain": [
       "<Figure size 1440x432 with 1 Axes>"
      ]
     },
     "metadata": {
      "needs_background": "light"
     },
     "output_type": "display_data"
    }
   ],
   "source": [
    "bins = [18, 30, 40, 50, 60, 70]\n",
    "labels = ['18-29', '30-39', '40-49', '50-59', '60-75']\n",
    "age=df['What is your age?']\n",
    "df['agerange'] = pd.cut(age, bins, labels = labels,include_lowest = True)\n",
    "crossTab = pd.crosstab(df['agerange'],df['Would you feel comfortable discussing a mental health disorder with your direct supervisor(s)?'],\n",
    "                       normalize = \"index\")\n",
    "crossTab.columns.name = 'Discuss Mental Health with supervisor'\n",
    "display(crossTab)\n",
    "fig,ax = plt.subplots(figsize=(20,6))\n",
    "sns.countplot(data = df,x= df['agerange'], hue =df['Would you feel comfortable discussing a mental health disorder with your direct supervisor(s)?'],ax=ax )\n",
    "ticks = plt.setp(ax.get_xticklabels(),rotation=45)\n",
    "plt.title('Age vs Mental Health Discussion')"
   ]
  },
  {
   "cell_type": "code",
   "execution_count": 15,
   "metadata": {},
   "outputs": [
    {
     "data": {
      "text/plain": [
       "User_Id\n",
       "455    30.0\n",
       "302    30.0\n",
       "278    30.0\n",
       "623    30.0\n",
       "619    30.0\n",
       "293    30.0\n",
       "32     30.0\n",
       "614    30.0\n",
       "611    30.0\n",
       "299    30.0\n",
       "Name: MH_Score, dtype: float64"
      ]
     },
     "execution_count": 15,
     "metadata": {},
     "output_type": "execute_result"
    }
   ],
   "source": [
    "MH_data['MH_Score'].sort_values(ascending=False).head(10)"
   ]
  },
  {
   "cell_type": "code",
   "execution_count": 16,
   "metadata": {},
   "outputs": [
    {
     "data": {
      "text/plain": [
       "array(['United States of America', 'United Kingdom', 'Australia',\n",
       "       'Netherlands', 'Switzerland'], dtype=object)"
      ]
     },
     "execution_count": 16,
     "metadata": {},
     "output_type": "execute_result"
    }
   ],
   "source": [
    "hypo3data1=MH_data.loc[[455,302,278,623,619,293,32,614,611,299]]\n",
    "hypo3data1['What country do you work in?'].unique()"
   ]
  },
  {
   "cell_type": "code",
   "execution_count": 17,
   "metadata": {},
   "outputs": [],
   "source": [
    "UK_df=hypo3data[hypo3data['Country']=='United Kingdom']\n",
    "Australia_df = hypo3data[hypo3data['Country']=='Australia']\n",
    "Netherland_df=hypo3data[hypo3data['Country']=='Netherlands']\n",
    "Switzerland_df=hypo3data[hypo3data['Country']=='Switzerland']"
   ]
  },
  {
   "cell_type": "code",
   "execution_count": 18,
   "metadata": {},
   "outputs": [
    {
     "data": {
      "image/png": "[encoded data removed]",
      "text/plain": [
       "<Figure size 360x360 with 2 Axes>"
      ]
     },
     "metadata": {
      "needs_background": "light"
     },
     "output_type": "display_data"
    },
    {
     "name": "stdout",
     "output_type": "stream",
     "text": [
      "Red defines Health Expenditure\n",
      "Blue defines Health Expentancy\n"
     ]
    },
    {
     "data": {
      "image/png": "[encoded data removed]",
      "text/plain": [
       "<Figure size 360x360 with 2 Axes>"
      ]
     },
     "metadata": {
      "needs_background": "light"
     },
     "output_type": "display_data"
    },
    {
     "name": "stdout",
     "output_type": "stream",
     "text": [
      "Red defines Health Expenditure\n",
      "Blue defines Health Expentancy\n"
     ]
    },
    {
     "data": {
      "image/png": "[encoded data removed]",
      "text/plain": [
       "<Figure size 360x360 with 2 Axes>"
      ]
     },
     "metadata": {
      "needs_background": "light"
     },
     "output_type": "display_data"
    },
    {
     "name": "stdout",
     "output_type": "stream",
     "text": [
      "Red defines Health Expenditure\n",
      "Blue defines Health Expentancy\n"
     ]
    },
    {
     "data": {
      "image/png": "[encoded data removed]",
      "text/plain": [
       "<Figure size 360x360 with 2 Axes>"
      ]
     },
     "metadata": {
      "needs_background": "light"
     },
     "output_type": "display_data"
    },
    {
     "name": "stdout",
     "output_type": "stream",
     "text": [
      "Red defines Health Expenditure\n",
      "Blue defines Health Expentancy\n"
     ]
    }
   ],
   "source": [
    "def hypo3(dataset):\n",
    "    fig,ax1=plt.subplots(figsize=(5,5))\n",
    "    ax1.set_xticks(dataset['Year'])\n",
    "    country=dataset['Country'].unique()\n",
    "    ax2=ax1.twinx()\n",
    "    ticks = plt.setp(ax1.get_xticklabels(),rotation=45)\n",
    "    curve1=ax1.plot(dataset['Year'],dataset['Expenditure'],label=\"Health Expenditure\", color='r')\n",
    "    curve2=ax2.plot(dataset['Year'],dataset['Expentancy'],label=\"Health Life Expentancy\",color='b')\n",
    "    plt.title(country)\n",
    "    plt.plot( )\n",
    "    plt.show()\n",
    "    print('Red defines Health Expenditure')\n",
    "    print('Blue defines Health Expentancy')\n",
    "    \n",
    "hypo3(Australia_df)\n",
    "hypo3(UK_df)\n",
    "hypo3(Netherland_df)\n",
    "hypo3(Switzerland_df)"
   ]
  },
  {
   "cell_type": "code",
   "execution_count": null,
   "metadata": {},
   "outputs": [],
   "source": []
  }
 ],
 "metadata": {
  "kernelspec": {
   "display_name": "Python 3",
   "language": "python",
   "name": "python3"
  },
  "language_info": {
   "codemirror_mode": {
    "name": "ipython",
    "version": 3
   },
   "file_extension": ".py",
   "mimetype": "text/x-python",
   "name": "python",
   "nbconvert_exporter": "python",
   "pygments_lexer": "ipython3",
   "version": "3.8.5"
  }
 },
 "nbformat": 4,
 "nbformat_minor": 4
}
