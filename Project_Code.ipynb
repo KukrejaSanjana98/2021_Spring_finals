{
 "cells": [
  {
   "cell_type": "code",
   "execution_count": 1,
   "metadata": {},
   "outputs": [],
   "source": [
    "import sys\n",
    "import warnings\n",
    "if not sys.warnoptions:\n",
    "    warnings.simplefilter(\"ignore\")\n",
    "from Functions import *\n",
    "import pandas as pd\n",
    "import numpy as np\n",
    "import matplotlib.pyplot as plt\n",
    "import seaborn as sns\n",
    "import plotly.express as px\n",
    "import plotly.graph_objects as go\n",
    "from plotly.subplots import make_subplots\n",
    "%matplotlib inline"
   ]
  },
  {
   "cell_type": "markdown",
   "metadata": {},
   "source": [
    "#### Function to read data,merge datasets and clean data"
   ]
  },
  {
   "cell_type": "code",
   "execution_count": 2,
   "metadata": {},
   "outputs": [],
   "source": [
    "MH_data= pd.read_csv('Data/Mental Health Data 2016.csv')\n",
    "MH_data=MH_data.rename(columns={'Would you feel comfortable discussing a mental health disorder with your direct supervisor(s)?':'Discussion with Supervisor','How many employees does your company or organization have?':'CompanySize','do you have a family history of mental illness?' : 'Family History of Mental Illness'})\n",
    "df = clean_gender(MH_data)\n",
    "df = givescore(df)\n",
    "df =clean_age(df)"
   ]
  },
  {
   "cell_type": "markdown",
   "metadata": {},
   "source": [
    "####  The approach I took instead of classifying a person having mental health issue or not is to provide scores to a particular user on the basis of the answers they have given in the survey\n"
   ]
  },
  {
   "cell_type": "markdown",
   "metadata": {},
   "source": [
    "### Hypothesis 1:Companies with a smaller number of people have less mental health issue.\n"
   ]
  },
  {
   "cell_type": "code",
   "execution_count": 3,
   "metadata": {},
   "outputs": [
    {
     "data": {
      "text/html": [
       "<div>\n",
       "<style scoped>\n",
       "    .dataframe tbody tr th:only-of-type {\n",
       "        vertical-align: middle;\n",
       "    }\n",
       "\n",
       "    .dataframe tbody tr th {\n",
       "        vertical-align: top;\n",
       "    }\n",
       "\n",
       "    .dataframe thead th {\n",
       "        text-align: right;\n",
       "    }\n",
       "</style>\n",
       "<table border=\"1\" class=\"dataframe\">\n",
       "  <thead>\n",
       "    <tr style=\"text-align: right;\">\n",
       "      <th>CompanySize vs MH Score</th>\n",
       "      <th>0.0</th>\n",
       "      <th>5.0</th>\n",
       "      <th>10.0</th>\n",
       "      <th>15.0</th>\n",
       "      <th>20.0</th>\n",
       "      <th>25.0</th>\n",
       "      <th>30.0</th>\n",
       "    </tr>\n",
       "    <tr>\n",
       "      <th>CompanySize</th>\n",
       "      <th></th>\n",
       "      <th></th>\n",
       "      <th></th>\n",
       "      <th></th>\n",
       "      <th></th>\n",
       "      <th></th>\n",
       "      <th></th>\n",
       "    </tr>\n",
       "  </thead>\n",
       "  <tbody>\n",
       "    <tr>\n",
       "      <th>100-500</th>\n",
       "      <td>0.052288</td>\n",
       "      <td>0.065359</td>\n",
       "      <td>0.058824</td>\n",
       "      <td>0.169935</td>\n",
       "      <td>0.019608</td>\n",
       "      <td>0.444444</td>\n",
       "      <td>0.189542</td>\n",
       "    </tr>\n",
       "    <tr>\n",
       "      <th>1000+</th>\n",
       "      <td>0.036496</td>\n",
       "      <td>0.058394</td>\n",
       "      <td>0.051095</td>\n",
       "      <td>0.094891</td>\n",
       "      <td>0.051095</td>\n",
       "      <td>0.379562</td>\n",
       "      <td>0.328467</td>\n",
       "    </tr>\n",
       "    <tr>\n",
       "      <th>26-100</th>\n",
       "      <td>0.073034</td>\n",
       "      <td>0.061798</td>\n",
       "      <td>0.050562</td>\n",
       "      <td>0.123596</td>\n",
       "      <td>0.050562</td>\n",
       "      <td>0.376404</td>\n",
       "      <td>0.264045</td>\n",
       "    </tr>\n",
       "    <tr>\n",
       "      <th>500-1000</th>\n",
       "      <td>0.089286</td>\n",
       "      <td>0.035714</td>\n",
       "      <td>0.000000</td>\n",
       "      <td>0.160714</td>\n",
       "      <td>0.053571</td>\n",
       "      <td>0.375000</td>\n",
       "      <td>0.285714</td>\n",
       "    </tr>\n",
       "  </tbody>\n",
       "</table>\n",
       "</div>"
      ],
      "text/plain": [
       "CompanySize vs MH Score      0.0       5.0       10.0      15.0      20.0  \\\n",
       "CompanySize                                                                 \n",
       "100-500                  0.052288  0.065359  0.058824  0.169935  0.019608   \n",
       "1000+                    0.036496  0.058394  0.051095  0.094891  0.051095   \n",
       "26-100                   0.073034  0.061798  0.050562  0.123596  0.050562   \n",
       "500-1000                 0.089286  0.035714  0.000000  0.160714  0.053571   \n",
       "\n",
       "CompanySize vs MH Score      25.0      30.0  \n",
       "CompanySize                                  \n",
       "100-500                  0.444444  0.189542  \n",
       "1000+                    0.379562  0.328467  \n",
       "26-100                   0.376404  0.264045  \n",
       "500-1000                 0.375000  0.285714  "
      ]
     },
     "metadata": {},
     "output_type": "display_data"
    },
    {
     "data": {
      "image/png": "[encoded data removed]",
      "text/plain": [
       "<Figure size 720x432 with 1 Axes>"
      ]
     },
     "metadata": {
      "needs_background": "light"
     },
     "output_type": "display_data"
    }
   ],
   "source": [
    "hypo1(df, 'CompanySize')"
   ]
  },
  {
   "cell_type": "markdown",
   "metadata": {},
   "source": [
    "#### As the number of companies is increasing the Mental Health Score is increasing which means that people in smaller companies have less mental health issues as the Mental Health Score is less. And thus the hypothesis is True."
   ]
  },
  {
   "cell_type": "markdown",
   "metadata": {},
   "source": [
    "###  Hypothesis 2:Companies with large number of employees formally discuss mental health issues."
   ]
  },
  {
   "cell_type": "code",
   "execution_count": 4,
   "metadata": {},
   "outputs": [
    {
     "data": {
      "text/html": [
       "<div>\n",
       "<style scoped>\n",
       "    .dataframe tbody tr th:only-of-type {\n",
       "        vertical-align: middle;\n",
       "    }\n",
       "\n",
       "    .dataframe tbody tr th {\n",
       "        vertical-align: top;\n",
       "    }\n",
       "\n",
       "    .dataframe thead th {\n",
       "        text-align: right;\n",
       "    }\n",
       "</style>\n",
       "<table border=\"1\" class=\"dataframe\">\n",
       "  <thead>\n",
       "    <tr style=\"text-align: right;\">\n",
       "      <th>Mental Health discussion with Supervisor</th>\n",
       "      <th>Maybe</th>\n",
       "      <th>No</th>\n",
       "      <th>Yes</th>\n",
       "    </tr>\n",
       "    <tr>\n",
       "      <th>CompanySize</th>\n",
       "      <th></th>\n",
       "      <th></th>\n",
       "      <th></th>\n",
       "    </tr>\n",
       "  </thead>\n",
       "  <tbody>\n",
       "    <tr>\n",
       "      <th>100-500</th>\n",
       "      <td>0.348178</td>\n",
       "      <td>0.267206</td>\n",
       "      <td>0.384615</td>\n",
       "    </tr>\n",
       "    <tr>\n",
       "      <th>1000+</th>\n",
       "      <td>0.294118</td>\n",
       "      <td>0.380392</td>\n",
       "      <td>0.325490</td>\n",
       "    </tr>\n",
       "    <tr>\n",
       "      <th>26-100</th>\n",
       "      <td>0.359589</td>\n",
       "      <td>0.253425</td>\n",
       "      <td>0.386986</td>\n",
       "    </tr>\n",
       "    <tr>\n",
       "      <th>500-1000</th>\n",
       "      <td>0.400000</td>\n",
       "      <td>0.212500</td>\n",
       "      <td>0.387500</td>\n",
       "    </tr>\n",
       "  </tbody>\n",
       "</table>\n",
       "</div>"
      ],
      "text/plain": [
       "Mental Health discussion with Supervisor     Maybe        No       Yes\n",
       "CompanySize                                                           \n",
       "100-500                                   0.348178  0.267206  0.384615\n",
       "1000+                                     0.294118  0.380392  0.325490\n",
       "26-100                                    0.359589  0.253425  0.386986\n",
       "500-1000                                  0.400000  0.212500  0.387500"
      ]
     },
     "metadata": {},
     "output_type": "display_data"
    },
    {
     "data": {
      "image/png": "[encoded data removed]",
      "text/plain": [
       "<Figure size 720x360 with 1 Axes>"
      ]
     },
     "metadata": {
      "needs_background": "light"
     },
     "output_type": "display_data"
    }
   ],
   "source": [
    "hypo2(df,'CompanySize','Discussion with Supervisor')"
   ]
  },
  {
   "cell_type": "markdown",
   "metadata": {},
   "source": [
    "#### Through the help of the Staked Bar Chart we can see that Companies with fewer employees  prefer to discuss mental health issues with their supervisors and thus the Hypothesis is true."
   ]
  },
  {
   "cell_type": "markdown",
   "metadata": {},
   "source": [
    "### Hypothesis 3:People in the age group 20-30 are most likely to discuss the mental health issues with the supervisor."
   ]
  },
  {
   "cell_type": "code",
   "execution_count": 5,
   "metadata": {},
   "outputs": [
    {
     "data": {
      "text/html": [
       "<div>\n",
       "<style scoped>\n",
       "    .dataframe tbody tr th:only-of-type {\n",
       "        vertical-align: middle;\n",
       "    }\n",
       "\n",
       "    .dataframe tbody tr th {\n",
       "        vertical-align: top;\n",
       "    }\n",
       "\n",
       "    .dataframe thead th {\n",
       "        text-align: right;\n",
       "    }\n",
       "</style>\n",
       "<table border=\"1\" class=\"dataframe\">\n",
       "  <thead>\n",
       "    <tr style=\"text-align: right;\">\n",
       "      <th>Discuss Mental Health with supervisor</th>\n",
       "      <th>Maybe</th>\n",
       "      <th>No</th>\n",
       "      <th>Yes</th>\n",
       "    </tr>\n",
       "    <tr>\n",
       "      <th>agerange</th>\n",
       "      <th></th>\n",
       "      <th></th>\n",
       "      <th></th>\n",
       "    </tr>\n",
       "  </thead>\n",
       "  <tbody>\n",
       "    <tr>\n",
       "      <th>18-29</th>\n",
       "      <td>0.348624</td>\n",
       "      <td>0.314985</td>\n",
       "      <td>0.336391</td>\n",
       "    </tr>\n",
       "    <tr>\n",
       "      <th>30-39</th>\n",
       "      <td>0.334165</td>\n",
       "      <td>0.259352</td>\n",
       "      <td>0.406484</td>\n",
       "    </tr>\n",
       "    <tr>\n",
       "      <th>40-49</th>\n",
       "      <td>0.360656</td>\n",
       "      <td>0.344262</td>\n",
       "      <td>0.295082</td>\n",
       "    </tr>\n",
       "    <tr>\n",
       "      <th>50-59</th>\n",
       "      <td>0.263158</td>\n",
       "      <td>0.263158</td>\n",
       "      <td>0.473684</td>\n",
       "    </tr>\n",
       "    <tr>\n",
       "      <th>60-75</th>\n",
       "      <td>0.250000</td>\n",
       "      <td>0.000000</td>\n",
       "      <td>0.750000</td>\n",
       "    </tr>\n",
       "  </tbody>\n",
       "</table>\n",
       "</div>"
      ],
      "text/plain": [
       "Discuss Mental Health with supervisor     Maybe        No       Yes\n",
       "agerange                                                           \n",
       "18-29                                  0.348624  0.314985  0.336391\n",
       "30-39                                  0.334165  0.259352  0.406484\n",
       "40-49                                  0.360656  0.344262  0.295082\n",
       "50-59                                  0.263158  0.263158  0.473684\n",
       "60-75                                  0.250000  0.000000  0.750000"
      ]
     },
     "metadata": {},
     "output_type": "display_data"
    },
    {
     "data": {
      "image/png": "[encoded data removed]",
      "text/plain": [
       "<Figure size 720x360 with 1 Axes>"
      ]
     },
     "metadata": {
      "needs_background": "light"
     },
     "output_type": "display_data"
    }
   ],
   "source": [
    "hypo3(df,'Discussion with Supervisor')"
   ]
  },
  {
   "cell_type": "markdown",
   "metadata": {},
   "source": [
    "#### Through the help of the Staked Bar Chart we can see that Employees in the age group 60-75  prefer to discuss mental health issues with their supervisors and thus they hypothesis is rejected."
   ]
  },
  {
   "cell_type": "markdown",
   "metadata": {},
   "source": [
    "### Hypothesis 4:Countries with High health expenditure improved the healthy score in the happiness report over the years."
   ]
  },
  {
   "cell_type": "code",
   "execution_count": 6,
   "metadata": {},
   "outputs": [],
   "source": [
    "hypo4_data=mergedata('Data/World Happiness Report.csv','Data/World Health Expenditure.csv')"
   ]
  },
  {
   "cell_type": "code",
   "execution_count": 7,
   "metadata": {},
   "outputs": [],
   "source": [
    "UK_df=hypo4_data[hypo4_data['Country']=='United Kingdom']\n",
    "Australia_df = hypo4_data[hypo4_data['Country']=='Australia']\n",
    "Netherland_df=hypo4_data[hypo4_data['Country']=='Netherlands']\n",
    "Switzerland_df=hypo4_data[hypo4_data['Country']=='Switzerland']"
   ]
  },
  {
   "cell_type": "code",
   "execution_count": null,
   "metadata": {},
   "outputs": [],
   "source": [
    "y=\"Year\"\n",
    "x=\"Expentancy\"\n",
    "color=\"Country\"\n",
    "size= \"Health Expenditure\"\n",
    "hover_name=\"Country\"\n",
    "log_x=True \n",
    "size_max=60\n",
    "scatter_plot(hypo4_data,x,y,color,size,hover_name,log_x,size_max)"
   ]
  },
  {
   "cell_type": "code",
   "execution_count": null,
   "metadata": {},
   "outputs": [],
   "source": [
    "hypo4b(UK_df,Australia_df,Netherland_df,Switzerland_df)"
   ]
  },
  {
   "cell_type": "markdown",
   "metadata": {},
   "source": [
    "#### With the help of the the bubble chart we are able to see growth in Health Expentancy as Health Expenditure increases, thus we fail to reject the hypothesis "
   ]
  },
  {
   "cell_type": "code",
   "execution_count": null,
   "metadata": {},
   "outputs": [],
   "source": []
  }
 ],
 "metadata": {
  "kernelspec": {
   "display_name": "Python 3",
   "language": "python",
   "name": "python3"
  },
  "language_info": {
   "codemirror_mode": {
    "name": "ipython",
    "version": 3
   },
   "file_extension": ".py",
   "mimetype": "text/x-python",
   "name": "python",
   "nbconvert_exporter": "python",
   "pygments_lexer": "ipython3",
   "version": "3.8.5"
  }
 },
 "nbformat": 4,
 "nbformat_minor": 4
}
